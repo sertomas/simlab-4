{
 "cells": [
  {
   "cell_type": "markdown",
   "metadata": {},
   "source": [
    "Import packages"
   ]
  },
  {
   "cell_type": "code",
   "execution_count": 47,
   "metadata": {},
   "outputs": [],
   "source": [
    "from tespy.networks import Network\n",
    "from tespy.components import (Source, Sink, Turbine, Splitter)\n",
    "from tespy.connections import Connection"
   ]
  },
  {
   "cell_type": "markdown",
   "metadata": {},
   "source": [
    "Network:"
   ]
  },
  {
   "cell_type": "code",
   "execution_count": 48,
   "metadata": {},
   "outputs": [],
   "source": [
    "extraxtion = Network(p_unit='bar', T_unit='C', h_unit='kJ / kg', m_unit='kg / s',\n",
    "                     iterinfo=False)  # reduce verbosity about the iteration progress"
   ]
  },
  {
   "cell_type": "markdown",
   "metadata": {},
   "source": [
    "Components:"
   ]
  },
  {
   "cell_type": "code",
   "execution_count": 49,
   "metadata": {},
   "outputs": [],
   "source": [
    "steam_source = Source('Inlet Steam')\n",
    "steam_sink_A = Sink('Outet steam A')\n",
    "steam_sink_B = Sink('Outlet steam B')\n",
    "st = Turbine('Steam Turbine')\n",
    "spl = Splitter('Splitter')\n"
   ]
  },
  {
   "cell_type": "markdown",
   "metadata": {},
   "source": [
    "Connections:"
   ]
  },
  {
   "cell_type": "code",
   "execution_count": 50,
   "metadata": {},
   "outputs": [],
   "source": [
    "c1 = Connection(steam_source, 'out1', st, 'in1', label='1')\n",
    "c2 = Connection(st, 'out1', spl, 'in1', label='2')\n",
    "c3 = Connection(spl, 'out1', steam_sink_A, 'in1', label='3')  # steam extraction\n",
    "c4 = Connection(spl, 'out2', steam_sink_B, 'in1', label='4')  # remaining steam\n",
    "\n",
    "\n",
    "extraxtion.add_conns(c1, c2, c3, c4)"
   ]
  },
  {
   "cell_type": "markdown",
   "metadata": {},
   "source": [
    "Fluids:"
   ]
  },
  {
   "cell_type": "code",
   "execution_count": 51,
   "metadata": {},
   "outputs": [],
   "source": [
    "water = {'water': 1}"
   ]
  },
  {
   "cell_type": "markdown",
   "metadata": {},
   "source": [
    "Parameters:"
   ]
  },
  {
   "cell_type": "code",
   "execution_count": 52,
   "metadata": {},
   "outputs": [],
   "source": [
    "c1.set_attr(T=500, p=80, m=10, fluid=water)\n",
    "c2.set_attr(p=5)\n",
    "c3.set_attr(m=3)\n",
    "\n",
    "st.set_attr(eta_s=0.85)"
   ]
  },
  {
   "cell_type": "code",
   "execution_count": 53,
   "metadata": {},
   "outputs": [
    {
     "name": "stdout",
     "output_type": "stream",
     "text": [
      "\n",
      "##### RESULTS (Turbine) #####\n",
      "+---------------+-----------+----------+----------+\n",
      "|               |         P |    eta_s |       pr |\n",
      "|---------------+-----------+----------+----------|\n",
      "| Steam Turbine | -5.88e+06 | \u001b[94m8.50e-01\u001b[0m | 6.25e-02 |\n",
      "+---------------+-----------+----------+----------+\n",
      "##### RESULTS (Connection) #####\n",
      "+----+-----------+-----------+-----------+-----------+\n",
      "|    |         m |         p |         h |         T |\n",
      "|----+-----------+-----------+-----------+-----------|\n",
      "|  1 | \u001b[94m1.000e+01\u001b[0m | \u001b[94m8.000e+01\u001b[0m | 3.399e+03 | \u001b[94m5.000e+02\u001b[0m |\n",
      "|  2 | 1.000e+01 | \u001b[94m5.000e+00\u001b[0m | 2.812e+03 | 1.797e+02 |\n",
      "|  3 | \u001b[94m3.000e+00\u001b[0m | 5.000e+00 | 2.812e+03 | 1.797e+02 |\n",
      "|  4 | 7.000e+00 | 5.000e+00 | 2.812e+03 | 1.797e+02 |\n",
      "+----+-----------+-----------+-----------+-----------+\n"
     ]
    }
   ],
   "source": [
    "extraxtion.solve(mode='design')\n",
    "extraxtion.print_results()"
   ]
  },
  {
   "cell_type": "code",
   "execution_count": 54,
   "metadata": {},
   "outputs": [
    {
     "name": "stdout",
     "output_type": "stream",
     "text": [
      "The mass flow of the steam extraction is: 3.0 kg/s\n",
      "The remaining steam mass flow is: 7.0 kg/s\n"
     ]
    }
   ],
   "source": [
    "print('The mass flow of the steam extraction is:', round(c3.m.val, 2), 'kg/s')\n",
    "print('The remaining steam mass flow is:', round(c4.m.val, 2), 'kg/s')\n"
   ]
  }
 ],
 "metadata": {
  "kernelspec": {
   "display_name": "ret-env",
   "language": "python",
   "name": "python3"
  },
  "language_info": {
   "codemirror_mode": {
    "name": "ipython",
    "version": 3
   },
   "file_extension": ".py",
   "mimetype": "text/x-python",
   "name": "python",
   "nbconvert_exporter": "python",
   "pygments_lexer": "ipython3",
   "version": "3.13.0"
  }
 },
 "nbformat": 4,
 "nbformat_minor": 2
}
