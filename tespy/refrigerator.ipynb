{
 "cells": [
  {
   "cell_type": "markdown",
   "metadata": {},
   "source": [
    "### Simulation of a simple refrigerator"
   ]
  },
  {
   "cell_type": "markdown",
   "metadata": {},
   "source": [
    "1. Import the necessary packages"
   ]
  },
  {
   "cell_type": "code",
   "execution_count": 161,
   "metadata": {},
   "outputs": [],
   "source": [
    "from tespy.networks import Network\n",
    "from tespy.components import Sink, Source, SimpleHeatExchanger, Compressor, CycleCloser, Valve\n",
    "from tespy.connections import Connection, Bus\n",
    "from CoolProp.CoolProp import PropsSI"
   ]
  },
  {
   "cell_type": "markdown",
   "metadata": {},
   "source": [
    "2. Create the `Network` for the refrigerator and set the units you want to use"
   ]
  },
  {
   "cell_type": "code",
   "execution_count": 162,
   "metadata": {},
   "outputs": [],
   "source": [
    "refrigerator = Network(T_unit='C', p_unit='bar', h_unit='kJ / kg', iterinfo=False)"
   ]
  },
  {
   "cell_type": "code",
   "execution_count": 163,
   "metadata": {},
   "outputs": [],
   "source": [
    "wf = 'R600a'\n",
    "wf_dict = {wf: 1}"
   ]
  },
  {
   "cell_type": "markdown",
   "metadata": {},
   "source": [
    "3. Set the components of the system"
   ]
  },
  {
   "cell_type": "code",
   "execution_count": 164,
   "metadata": {},
   "outputs": [],
   "source": [
    "comp = Compressor('compressor')\n",
    "cond = SimpleHeatExchanger('condenser')\n",
    "wf_source = Source('source')\n",
    "wf_sink = Sink('sink')"
   ]
  },
  {
   "cell_type": "markdown",
   "metadata": {},
   "source": [
    "4. Set the connections of the system and add them to the `Network`"
   ]
  },
  {
   "cell_type": "code",
   "execution_count": 165,
   "metadata": {},
   "outputs": [],
   "source": [
    "c1 = Connection(wf_source, 'out1', comp, 'in1', label='1')\n",
    "c2 = Connection(comp, 'out1', cond, 'in1', label='2')\n",
    "c3 = Connection(cond, 'out1', wf_sink, 'in1', label='3')\n",
    "\n",
    "refrigerator.add_conns(c1, c2, c3)"
   ]
  },
  {
   "cell_type": "markdown",
   "metadata": {},
   "source": [
    "5. Define the parameters and design variables"
   ]
  },
  {
   "cell_type": "code",
   "execution_count": 166,
   "metadata": {},
   "outputs": [],
   "source": [
    "# Components\n",
    "comp.set_attr(eta_s=0.75)\n",
    "cond.set_attr(pr=1)\n",
    "\n",
    "# Connections\n",
    "c1.set_attr(fluid=wf_dict, T=-18, p=0.725, m=0.001)\n",
    "c2.set_attr(T=60)\n",
    "h3_set = PropsSI(\"H\", \"Q\", 0, \"T\", 273.15 + 40, wf) / 1e3 \n",
    "c3.set_attr(h=h3_set)"
   ]
  },
  {
   "cell_type": "markdown",
   "metadata": {},
   "source": [
    "If we try to set the temperature of stream 3 to 40°C, the solver cannot find a solution. To solve this problem, we specify the enthalpy instead of the temperature. In general, enthalpies and pressure should be specified first. The value of the enthalpy (the start value, the guess value) at 40°C and at boiling condtion can be calculated using CoolProp."
   ]
  },
  {
   "cell_type": "markdown",
   "metadata": {},
   "source": [
    "6. Solve the system of equations"
   ]
  },
  {
   "cell_type": "code",
   "execution_count": 167,
   "metadata": {},
   "outputs": [
    {
     "name": "stdout",
     "output_type": "stream",
     "text": [
      "\n",
      "##### RESULTS (Compressor) #####\n",
      "+------------+----------+----------+-----------+----------+--------+\n",
      "|            |        P |       pr |        dp |    eta_s |   igva |\n",
      "|------------+----------+----------+-----------+----------+--------|\n",
      "| compressor | 1.11e+02 | 9.18e+00 | -5.93e+00 | \u001b[94m7.50e-01\u001b[0m |    nan |\n",
      "+------------+----------+----------+-----------+----------+--------+\n",
      "##### RESULTS (SimpleHeatExchanger) #####\n",
      "+-----------+-----------+----------+----------+----------+-----+-----+------+---------+------+--------+\n",
      "|           |         Q |       pr |       dp |     zeta |   D |   L |   ks |   ks_HW |   kA |   Tamb |\n",
      "|-----------+-----------+----------+----------+----------+-----+-----+------+---------+------+--------|\n",
      "| condenser | -3.45e+02 | \u001b[94m1.00e+00\u001b[0m | 0.00e+00 | 0.00e+00 | nan | nan |  nan |     nan |  nan |    nan |\n",
      "+-----------+-----------+----------+----------+----------+-----+-----+------+---------+------+--------+\n",
      "##### RESULTS (Connection) #####\n",
      "+----+-----------+-----------+-----------+------------+-----------+---------+\n",
      "|    |         m |         p |         h |          T |         x | phase   |\n",
      "|----+-----------+-----------+-----------+------------+-----------+---------|\n",
      "|  1 | \u001b[94m1.000e-03\u001b[0m | \u001b[94m7.250e-01\u001b[0m | 5.306e+02 | \u001b[94m-1.800e+01\u001b[0m | 1.000e+00 | g       |\n",
      "|  2 | 1.000e-03 | 6.653e+00 | 6.418e+02 |  \u001b[94m6.000e+01\u001b[0m | 1.000e+00 | g       |\n",
      "|  3 | 1.000e-03 | 6.653e+00 | \u001b[94m2.963e+02\u001b[0m |  3.998e+01 | 0.000e+00 | l       |\n",
      "+----+-----------+-----------+-----------+------------+-----------+---------+\n"
     ]
    }
   ],
   "source": [
    "refrigerator.solve(mode='design')\n",
    "refrigerator.print_results()"
   ]
  },
  {
   "cell_type": "markdown",
   "metadata": {},
   "source": [
    "Now the solver has better guesses for the next run. We can remove the specification of the enthalpy value and set the temperature at the outlet of the condenser, as required. "
   ]
  },
  {
   "cell_type": "code",
   "execution_count": 168,
   "metadata": {},
   "outputs": [
    {
     "name": "stdout",
     "output_type": "stream",
     "text": [
      "\n",
      "##### RESULTS (Compressor) #####\n",
      "+------------+----------+----------+-----------+----------+--------+\n",
      "|            |        P |       pr |        dp |    eta_s |   igva |\n",
      "|------------+----------+----------+-----------+----------+--------|\n",
      "| compressor | 1.11e+02 | 9.18e+00 | -5.93e+00 | \u001b[94m7.50e-01\u001b[0m |    nan |\n",
      "+------------+----------+----------+-----------+----------+--------+\n",
      "##### RESULTS (SimpleHeatExchanger) #####\n",
      "+-----------+-----------+----------+----------+----------+-----+-----+------+---------+------+--------+\n",
      "|           |         Q |       pr |       dp |     zeta |   D |   L |   ks |   ks_HW |   kA |   Tamb |\n",
      "|-----------+-----------+----------+----------+----------+-----+-----+------+---------+------+--------|\n",
      "| condenser | -3.45e+02 | \u001b[94m1.00e+00\u001b[0m | 0.00e+00 | 0.00e+00 | nan | nan |  nan |     nan |  nan |    nan |\n",
      "+-----------+-----------+----------+----------+----------+-----+-----+------+---------+------+--------+\n",
      "##### RESULTS (Connection) #####\n",
      "+----+-----------+-----------+-----------+------------+-----------+---------+\n",
      "|    |         m |         p |         h |          T |         x | phase   |\n",
      "|----+-----------+-----------+-----------+------------+-----------+---------|\n",
      "|  1 | \u001b[94m1.000e-03\u001b[0m | \u001b[94m7.250e-01\u001b[0m | 5.306e+02 | \u001b[94m-1.800e+01\u001b[0m | 1.000e+00 | g       |\n",
      "|  2 | 1.000e-03 | 6.653e+00 | 6.418e+02 |  \u001b[94m6.000e+01\u001b[0m | 1.000e+00 | g       |\n",
      "|  3 | 1.000e-03 | 6.653e+00 | 2.963e+02 |  \u001b[94m4.000e+01\u001b[0m | 0.000e+00 | l       |\n",
      "+----+-----------+-----------+-----------+------------+-----------+---------+\n"
     ]
    }
   ],
   "source": [
    "c3.set_attr(h=None, T=40)\n",
    "refrigerator.solve(mode='design')\n",
    "refrigerator.print_results()"
   ]
  },
  {
   "cell_type": "markdown",
   "metadata": {},
   "source": [
    "Now, we can add the other components one by one. At the end our simulation should look like this:"
   ]
  },
  {
   "cell_type": "code",
   "execution_count": 169,
   "metadata": {},
   "outputs": [],
   "source": [
    "refrigerator = Network(T_unit='C', p_unit='bar', h_unit='kJ / kg', m_unit='kg / s')"
   ]
  },
  {
   "cell_type": "code",
   "execution_count": 170,
   "metadata": {},
   "outputs": [],
   "source": [
    "wf = \"R600a\"\n",
    "wf_dict = {wf: 1}"
   ]
  },
  {
   "cell_type": "code",
   "execution_count": 171,
   "metadata": {},
   "outputs": [],
   "source": [
    "val = Valve('throttling-valve')\n",
    "eva = SimpleHeatExchanger('evaporator')\n",
    "cond = SimpleHeatExchanger('condenser')\n",
    "comp = Compressor('compressor')\n",
    "cc = CycleCloser('cycle-closer')"
   ]
  },
  {
   "cell_type": "code",
   "execution_count": 172,
   "metadata": {},
   "outputs": [],
   "source": [
    "c01 = Connection(eva, 'out1', comp, 'in1', label='1')\n",
    "c02 = Connection(comp, 'out1', cond, 'in1', label='2')\n",
    "c02cc = Connection(cond, 'out1', cc, 'in1', label='2cc')\n",
    "c03 = Connection(cc, 'out1', val, 'in1', label='3')\n",
    "c04 = Connection(val, 'out1', eva, 'in1', label='4')\n",
    "\n",
    "refrigerator.add_conns(c01, c02, c02cc, c03, c04)"
   ]
  },
  {
   "cell_type": "markdown",
   "metadata": {},
   "source": [
    "First run with the starting values:"
   ]
  },
  {
   "cell_type": "code",
   "execution_count": 173,
   "metadata": {},
   "outputs": [],
   "source": [
    "# Components\n",
    "eva.set_attr(Q=150, pr=1)\n",
    "comp.set_attr(eta_s=0.75)\n",
    "cond.set_attr(pr=1)\n",
    "\n",
    "# Connections\n",
    "c03.set_attr(fluid=wf_dict)\n",
    "p4_set = PropsSI(\"P\", \"Q\", 1, \"T\", 273.15 - 20, wf) / 1e5  # saturation pressure at given temperature\n",
    "c04.set_attr(p=p4_set)\n",
    "h1_set = PropsSI(\"H\", \"P\", p4_set*1e5, \"T\", 273.15 - 18, wf) / 1e3  # superheated state at given temperature and pressure\n",
    "c01.set_attr(h=h1_set)\n",
    "c02.set_attr(T=60)\n",
    "h2cc_set = PropsSI(\"H\", \"Q\", 0, \"T\", 273.15 + 40, wf) / 1e3  # \n",
    "c02cc.set_attr(h=h2cc_set)"
   ]
  },
  {
   "cell_type": "code",
   "execution_count": 174,
   "metadata": {},
   "outputs": [
    {
     "name": "stdout",
     "output_type": "stream",
     "text": [
      "\n",
      " iter  | residual   | progress   | massflow   | pressure   | enthalpy   | fluid      | component  \n",
      "-------+------------+------------+------------+------------+------------+------------+------------\n",
      " 1     | 5.98e+05   | 2 %        | 1.43e+00   | 3.72e+05   | 2.04e+05   | 0.00e+00   | 0.00e+00   \n",
      " 2     | 3.56e+04   | 16 %       | 2.27e-02   | 4.37e+05   | 8.20e+03   | 0.00e+00   | 0.00e+00   \n",
      " 3     | 7.34e+03   | 23 %       | 1.09e-18   | 1.30e+05   | 3.22e+03   | 0.00e+00   | 0.00e+00   \n",
      " 4     | 3.02e+02   | 39 %       | 0.00e+00   | 5.02e+03   | 1.79e+02   | 0.00e+00   | 0.00e+00   \n",
      " 5     | 3.83e-01   | 71 %       | 0.00e+00   | 5.53e+00   | 2.66e-01   | 0.00e+00   | 0.00e+00   \n",
      " 6     | 4.64e-07   | 100 %      | 0.00e+00   | 6.01e-06   | 3.52e-07   | 0.00e+00   | 0.00e+00   \n",
      " 7     | 1.17e-10   | 100 %      | 0.00e+00   | 7.99e-10   | 1.32e-10   | 0.00e+00   | 0.00e+00   \n",
      "Total iterations: 7, Calculation time: 0.05 s, Iterations per second: 139.61\n",
      "\n",
      "##### RESULTS (Compressor) #####\n",
      "+------------+----------+----------+-----------+----------+--------+\n",
      "|            |        P |       pr |        dp |    eta_s |   igva |\n",
      "|------------+----------+----------+-----------+----------+--------|\n",
      "| compressor | 7.11e+01 | 9.18e+00 | -5.93e+00 | \u001b[94m7.50e-01\u001b[0m |    nan |\n",
      "+------------+----------+----------+-----------+----------+--------+\n",
      "##### RESULTS (SimpleHeatExchanger) #####\n",
      "+------------+-----------+----------+----------+----------+-----+-----+------+---------+------+--------+\n",
      "|            |         Q |       pr |       dp |     zeta |   D |   L |   ks |   ks_HW |   kA |   Tamb |\n",
      "|------------+-----------+----------+----------+----------+-----+-----+------+---------+------+--------|\n",
      "| condenser  | -2.21e+02 | \u001b[94m1.00e+00\u001b[0m | 0.00e+00 | 0.00e+00 | nan | nan |  nan |     nan |  nan |    nan |\n",
      "| evaporator |  \u001b[94m1.50e+02\u001b[0m | \u001b[94m1.00e+00\u001b[0m | 0.00e+00 | 0.00e+00 | nan | nan |  nan |     nan |  nan |    nan |\n",
      "+------------+-----------+----------+----------+----------+-----+-----+------+---------+------+--------+\n",
      "##### RESULTS (CycleCloser) #####\n",
      "+--------------+------------------+-------------------+\n",
      "|              |   mass_deviation |   fluid_deviation |\n",
      "|--------------+------------------+-------------------|\n",
      "| cycle-closer |         0.00e+00 |          0.00e+00 |\n",
      "+--------------+------------------+-------------------+\n",
      "##### RESULTS (Valve) #####\n",
      "+------------------+----------+----------+----------+\n",
      "|                  |       pr |       dp |     zeta |\n",
      "|------------------+----------+----------+----------|\n",
      "| throttling-valve | 1.09e-01 | 5.93e+00 | 1.92e+13 |\n",
      "+------------------+----------+----------+----------+\n",
      "##### RESULTS (Connection) #####\n",
      "+-----+-----------+-----------+-----------+------------+-----------+---------+\n",
      "|     |         m |         p |         h |          T |         x | phase   |\n",
      "|-----+-----------+-----------+-----------+------------+-----------+---------|\n",
      "| 1   | 6.401e-04 | 7.248e-01 | \u001b[94m5.306e+02\u001b[0m | -1.800e+01 | 1.000e+00 | g       |\n",
      "| 2   | 6.401e-04 | 6.652e+00 | 6.418e+02 |  \u001b[94m6.000e+01\u001b[0m | 1.000e+00 | g       |\n",
      "| 2cc | 6.401e-04 | 6.652e+00 | \u001b[94m2.963e+02\u001b[0m |  3.998e+01 | 0.000e+00 | l       |\n",
      "| 3   | 6.401e-04 | 6.652e+00 | 2.963e+02 |  3.998e+01 | 0.000e+00 | l       |\n",
      "| 4   | 6.401e-04 | \u001b[94m7.248e-01\u001b[0m | 2.963e+02 | -2.000e+01 | 3.787e-01 | tp      |\n",
      "+-----+-----------+-----------+-----------+------------+-----------+---------+\n"
     ]
    }
   ],
   "source": [
    "refrigerator.solve(mode='design')\n",
    "refrigerator.print_results()"
   ]
  },
  {
   "cell_type": "markdown",
   "metadata": {},
   "source": [
    "Second run with the desired specifications:"
   ]
  },
  {
   "cell_type": "code",
   "execution_count": 175,
   "metadata": {},
   "outputs": [],
   "source": [
    "c01.set_attr(h=None, Td_bp=2)\n",
    "c04.set_attr(p=None, T=-20)\n",
    "c02cc.set_attr(h=None, T=40)"
   ]
  },
  {
   "cell_type": "code",
   "execution_count": 176,
   "metadata": {},
   "outputs": [
    {
     "name": "stdout",
     "output_type": "stream",
     "text": [
      "\n",
      " iter  | residual   | progress   | massflow   | pressure   | enthalpy   | fluid      | component  \n",
      "-------+------------+------------+------------+------------+------------+------------+------------\n",
      " 1     | 1.86e-02   | 85 %       | 1.29e-07   | 8.38e-07   | 8.17e+01   | 0.00e+00   | 0.00e+00   \n",
      " 2     | 6.10e-06   | 100 %      | 2.96e-11   | 1.21e-08   | 2.32e-03   | 0.00e+00   | 0.00e+00   \n",
      " 3     | 8.85e-11   | 100 %      | 2.71e-19   | 7.52e-09   | 5.34e-10   | 0.00e+00   | 0.00e+00   \n",
      " 4     | 1.75e-10   | 100 %      | 3.71e-19   | 6.25e-10   | 5.54e-10   | 0.00e+00   | 0.00e+00   \n",
      "Total iterations: 4, Calculation time: 0.13 s, Iterations per second: 29.74\n",
      "\n",
      "##### RESULTS (Compressor) #####\n",
      "+------------+----------+----------+-----------+----------+--------+\n",
      "|            |        P |       pr |        dp |    eta_s |   igva |\n",
      "|------------+----------+----------+-----------+----------+--------|\n",
      "| compressor | 7.12e+01 | 9.18e+00 | -5.93e+00 | \u001b[94m7.50e-01\u001b[0m |    nan |\n",
      "+------------+----------+----------+-----------+----------+--------+\n",
      "##### RESULTS (SimpleHeatExchanger) #####\n",
      "+------------+-----------+----------+----------+----------+-----+-----+------+---------+------+--------+\n",
      "|            |         Q |       pr |       dp |     zeta |   D |   L |   ks |   ks_HW |   kA |   Tamb |\n",
      "|------------+-----------+----------+----------+----------+-----+-----+------+---------+------+--------|\n",
      "| condenser  | -2.21e+02 | \u001b[94m1.00e+00\u001b[0m | 0.00e+00 | 0.00e+00 | nan | nan |  nan |     nan |  nan |    nan |\n",
      "| evaporator |  \u001b[94m1.50e+02\u001b[0m | \u001b[94m1.00e+00\u001b[0m | 0.00e+00 | 0.00e+00 | nan | nan |  nan |     nan |  nan |    nan |\n",
      "+------------+-----------+----------+----------+----------+-----+-----+------+---------+------+--------+\n",
      "##### RESULTS (CycleCloser) #####\n",
      "+--------------+------------------+-------------------+\n",
      "|              |   mass_deviation |   fluid_deviation |\n",
      "|--------------+------------------+-------------------|\n",
      "| cycle-closer |         0.00e+00 |          0.00e+00 |\n",
      "+--------------+------------------+-------------------+\n",
      "##### RESULTS (Valve) #####\n",
      "+------------------+----------+----------+----------+\n",
      "|                  |       pr |       dp |     zeta |\n",
      "|------------------+----------+----------+----------|\n",
      "| throttling-valve | 1.09e-01 | 5.93e+00 | 1.92e+13 |\n",
      "+------------------+----------+----------+----------+\n",
      "##### RESULTS (Connection) #####\n",
      "+-----+-----------+-----------+-----------+------------+-----------+---------+\n",
      "|     |         m |         p |         h |          T |         x | phase   |\n",
      "|-----+-----------+-----------+-----------+------------+-----------+---------|\n",
      "| 1   | 6.402e-04 | 7.248e-01 | 5.306e+02 | -1.800e+01 | 1.000e+00 | g       |\n",
      "| 2   | 6.402e-04 | 6.652e+00 | 6.418e+02 |  \u001b[94m6.000e+01\u001b[0m | 1.000e+00 | g       |\n",
      "| 2cc | 6.402e-04 | 6.652e+00 | 2.963e+02 |  \u001b[94m4.000e+01\u001b[0m | 0.000e+00 | l       |\n",
      "| 3   | 6.402e-04 | 6.652e+00 | 2.963e+02 |  4.000e+01 | 0.000e+00 | l       |\n",
      "| 4   | 6.402e-04 | 7.248e-01 | 2.963e+02 | \u001b[94m-2.000e+01\u001b[0m | 3.788e-01 | tp      |\n",
      "+-----+-----------+-----------+-----------+------------+-----------+---------+\n"
     ]
    }
   ],
   "source": [
    "refrigerator.solve(mode='design')\n",
    "refrigerator.print_results()"
   ]
  },
  {
   "cell_type": "markdown",
   "metadata": {},
   "source": [
    "8. Add busses for heat and power flows"
   ]
  },
  {
   "cell_type": "code",
   "execution_count": 177,
   "metadata": {},
   "outputs": [],
   "source": [
    "motor = Bus('motor')\n",
    "motor.add_comps({'comp': comp, 'char': 0.95, 'base': 'bus'})\n",
    "\n",
    "cooling = Bus('cooling heat')\n",
    "cooling.add_comps({'comp': eva, 'base': 'bus'})\n",
    "\n",
    "refrigerator.add_busses(motor, cooling)"
   ]
  },
  {
   "cell_type": "markdown",
   "metadata": {},
   "source": [
    "9. Run again the simulation and calculate the coefficient of performance"
   ]
  },
  {
   "cell_type": "code",
   "execution_count": 178,
   "metadata": {},
   "outputs": [
    {
     "name": "stdout",
     "output_type": "stream",
     "text": [
      "\n",
      " iter  | residual   | progress   | massflow   | pressure   | enthalpy   | fluid      | component  \n",
      "-------+------------+------------+------------+------------+------------+------------+------------\n",
      " 1     | 1.46e-11   | 100 %      | 2.18e-19   | 1.80e-09   | 8.83e-11   | 0.00e+00   | 0.00e+00   \n",
      " 2     | 8.85e-11   | 100 %      | 4.86e-19   | 1.69e-09   | 1.81e-10   | 0.00e+00   | 0.00e+00   \n",
      " 3     | 2.04e-10   | 100 %      | 9.39e-20   | 2.32e-09   | 9.38e-11   | 0.00e+00   | 0.00e+00   \n",
      " 4     | 2.33e-10   | 100 %      | 3.37e-19   | 1.17e-09   | 1.61e-10   | 0.00e+00   | 0.00e+00   \n",
      "Total iterations: 4, Calculation time: 0.10 s, Iterations per second: 40.34\n",
      "COP: 2.0025168800023607\n"
     ]
    }
   ],
   "source": [
    "refrigerator.solve(mode='design')\n",
    "\n",
    "print('COP:', cooling.P.val / motor.P.val)"
   ]
  }
 ],
 "metadata": {
  "kernelspec": {
   "display_name": "simlab-env",
   "language": "python",
   "name": "python3"
  },
  "language_info": {
   "codemirror_mode": {
    "name": "ipython",
    "version": 3
   },
   "file_extension": ".py",
   "mimetype": "text/x-python",
   "name": "python",
   "nbconvert_exporter": "python",
   "pygments_lexer": "ipython3",
   "version": "3.13.3"
  }
 },
 "nbformat": 4,
 "nbformat_minor": 2
}
