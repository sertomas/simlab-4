{
 "cells": [
  {
   "cell_type": "markdown",
   "metadata": {},
   "source": [
    "### Simulation of a simple refrigerator"
   ]
  },
  {
   "cell_type": "markdown",
   "metadata": {},
   "source": [
    "1. Import the necessary packages"
   ]
  },
  {
   "cell_type": "code",
   "execution_count": 1,
   "metadata": {},
   "outputs": [],
   "source": [
    "from tespy.networks import Network\n",
    "from tespy.components import (Sink, Source, Valve, SimpleHeatExchanger, Compressor, CycleCloser)\n",
    "from tespy.connections import Connection, Bus\n",
    "from CoolProp.CoolProp import PropsSI"
   ]
  },
  {
   "cell_type": "markdown",
   "metadata": {},
   "source": [
    "2. Create the `Network` for the refrigerator and set the units you want to use"
   ]
  },
  {
   "cell_type": "code",
   "execution_count": 2,
   "metadata": {},
   "outputs": [],
   "source": [
    "refrigerator = Network(T_unit='C', p_unit='bar', h_unit='kJ / kg', m_unit='kg / s')"
   ]
  },
  {
   "cell_type": "markdown",
   "metadata": {},
   "source": [
    "3. Set the fluids of the system (for easier access in the functions)"
   ]
  },
  {
   "cell_type": "code",
   "execution_count": 3,
   "metadata": {},
   "outputs": [],
   "source": [
    "wf = \"R600a\"\n",
    "wf_dict = {wf: 1}"
   ]
  },
  {
   "cell_type": "markdown",
   "metadata": {},
   "source": [
    "4. Set the components of the system"
   ]
  },
  {
   "cell_type": "code",
   "execution_count": 4,
   "metadata": {},
   "outputs": [],
   "source": [
    "val = Valve('throttling-valve')\n",
    "eva = SimpleHeatExchanger('evaporator')\n",
    "cond = SimpleHeatExchanger('condenser')\n",
    "comp = Compressor('compressor')\n",
    "cc = CycleCloser('cycle-closer')\n"
   ]
  },
  {
   "cell_type": "markdown",
   "metadata": {},
   "source": [
    "5. Set the connections of the system and add them to the `Network`"
   ]
  },
  {
   "cell_type": "code",
   "execution_count": 5,
   "metadata": {},
   "outputs": [],
   "source": [
    "# cXX = Connection(src_comp, 'src_port', dst_comp, 'dst_port', label='XX')\n",
    "c01 = Connection(eva, 'out1', comp, 'in1', label='1')\n",
    "c02 = Connection(comp, 'out1', cond, 'in1', label='2')\n",
    "c02cc = Connection(cond, 'out1', cc, 'in1', label='2cc')\n",
    "c03 = Connection(cc, 'out1', val, 'in1', label='3')\n",
    "c04 = Connection(val, 'out1', eva, 'in1', label='4')\n",
    "\n",
    "refrigerator.add_conns(c01, c02, c02cc, c03, c04)"
   ]
  },
  {
   "cell_type": "markdown",
   "metadata": {},
   "source": [
    "6. Define the parameters and design variables"
   ]
  },
  {
   "cell_type": "code",
   "execution_count": 6,
   "metadata": {},
   "outputs": [],
   "source": [
    "# Components\n",
    "eva.set_attr(Q=150, pr=1)\n",
    "\n",
    "comp.set_attr(eta_s=0.75)\n",
    "\n",
    "cond.set_attr(pr=1)\n",
    "\n",
    "# Connections\n",
    "c03.set_attr(fluid=wf_dict)\n",
    "\n",
    "p4_set = PropsSI(\"P\", \"Q\", 1, \"T\", 273.15 - 20, wf) / 1e5  # saturation pressure at given temperature\n",
    "c04.set_attr(p=p4_set)\n",
    "\n",
    "h1_set = PropsSI(\"H\", \"P\", p4_set*1e5, \"T\", 273.15 - 18, wf) / 1e3  # superheated state at given temperature and pressure\n",
    "c01.set_attr(h=h1_set)\n",
    "\n",
    "c02.set_attr(T=60)\n",
    "\n",
    "h2cc_set = PropsSI(\"H\", \"Q\", 0, \"T\", 273.15 + 40, wf) / 1e3  # \n",
    "c02cc.set_attr(h=h2cc_set)"
   ]
  },
  {
   "cell_type": "markdown",
   "metadata": {},
   "source": [
    "7. Solve the system of equations"
   ]
  },
  {
   "cell_type": "code",
   "execution_count": 7,
   "metadata": {},
   "outputs": [
    {
     "name": "stdout",
     "output_type": "stream",
     "text": [
      "\n",
      " iter  | residual   | progress   | massflow   | pressure   | enthalpy   | fluid      | component  \n",
      "-------+------------+------------+------------+------------+------------+------------+------------\n",
      " 1     | 6.77e+05   | 1 %        | 2.00e+00   | 3.72e+05   | 2.04e+05   | 0.00e+00   | 0.00e+00   \n",
      " 2     | 3.59e+04   | 16 %       | 3.17e-02   | 4.37e+05   | 8.20e+03   | 0.00e+00   | 0.00e+00   \n",
      " 3     | 7.34e+03   | 23 %       | 1.09e-18   | 1.30e+05   | 3.22e+03   | 0.00e+00   | 0.00e+00   \n",
      " 4     | 3.02e+02   | 39 %       | 0.00e+00   | 5.02e+03   | 1.79e+02   | 0.00e+00   | 0.00e+00   \n",
      " 5     | 3.83e-01   | 71 %       | 0.00e+00   | 5.53e+00   | 2.66e-01   | 0.00e+00   | 0.00e+00   \n",
      " 6     | 4.64e-07   | 100 %      | 0.00e+00   | 6.01e-06   | 3.52e-07   | 0.00e+00   | 0.00e+00   \n",
      " 7     | 1.17e-10   | 100 %      | 0.00e+00   | 7.99e-10   | 1.32e-10   | 0.00e+00   | 0.00e+00   \n",
      "Total iterations: 7, Calculation time: 0.07 s, Iterations per second: 97.79\n",
      "\n",
      "##### RESULTS (Valve) #####\n",
      "+------------------+----------+----------+\n",
      "|                  |       pr |     zeta |\n",
      "|------------------+----------+----------|\n",
      "| throttling-valve | 1.09e-01 | 1.92e+13 |\n",
      "+------------------+----------+----------+\n",
      "##### RESULTS (Compressor) #####\n",
      "+------------+----------+----------+----------+--------+\n",
      "|            |        P |    eta_s |       pr |   igva |\n",
      "|------------+----------+----------+----------+--------|\n",
      "| compressor | 7.11e+01 | \u001b[94m7.50e-01\u001b[0m | 9.18e+00 |    nan |\n",
      "+------------+----------+----------+----------+--------+\n",
      "##### RESULTS (SimpleHeatExchanger) #####\n",
      "+------------+-----------+----------+----------+-----+-----+------+---------+------+--------+\n",
      "|            |         Q |       pr |     zeta |   D |   L |   ks |   ks_HW |   kA |   Tamb |\n",
      "|------------+-----------+----------+----------+-----+-----+------+---------+------+--------|\n",
      "| evaporator |  \u001b[94m1.50e+02\u001b[0m | \u001b[94m1.00e+00\u001b[0m | 0.00e+00 | nan | nan |  nan |     nan |  nan |    nan |\n",
      "| condenser  | -2.21e+02 | \u001b[94m1.00e+00\u001b[0m | 0.00e+00 | nan | nan |  nan |     nan |  nan |    nan |\n",
      "+------------+-----------+----------+----------+-----+-----+------+---------+------+--------+\n",
      "##### RESULTS (CycleCloser) #####\n",
      "+--------------+------------------+-------------------+\n",
      "|              |   mass_deviation |   fluid_deviation |\n",
      "|--------------+------------------+-------------------|\n",
      "| cycle-closer |         0.00e+00 |          0.00e+00 |\n",
      "+--------------+------------------+-------------------+\n",
      "##### RESULTS (Connection) #####\n",
      "+-----+-----------+-----------+-----------+------------+\n",
      "|     |         m |         p |         h |          T |\n",
      "|-----+-----------+-----------+-----------+------------|\n",
      "| 1   | 6.401e-04 | 7.248e-01 | \u001b[94m5.306e+02\u001b[0m | -1.800e+01 |\n",
      "| 2   | 6.401e-04 | 6.652e+00 | 6.418e+02 |  \u001b[94m6.000e+01\u001b[0m |\n",
      "| 2cc | 6.401e-04 | 6.652e+00 | \u001b[94m2.963e+02\u001b[0m |  3.998e+01 |\n",
      "| 3   | 6.401e-04 | 6.652e+00 | 2.963e+02 |  3.998e+01 |\n",
      "| 4   | 6.401e-04 | \u001b[94m7.248e-01\u001b[0m | 2.963e+02 | -2.000e+01 |\n",
      "+-----+-----------+-----------+-----------+------------+\n"
     ]
    }
   ],
   "source": [
    "refrigerator.solve(mode='design')\n",
    "refrigerator.print_results()"
   ]
  },
  {
   "cell_type": "markdown",
   "metadata": {},
   "source": [
    "8. Add busses for heat and power flows"
   ]
  },
  {
   "cell_type": "code",
   "execution_count": 8,
   "metadata": {},
   "outputs": [],
   "source": [
    "motor = Bus('motor')\n",
    "motor.add_comps({'comp': comp, 'char': 0.95, 'base': 'bus'})\n",
    "\n",
    "cooling = Bus('cooling heat')\n",
    "cooling.add_comps({'comp': eva, 'base': 'bus'})\n",
    "\n",
    "refrigerator.add_busses(motor, cooling)"
   ]
  },
  {
   "cell_type": "markdown",
   "metadata": {},
   "source": [
    "9. Run again the simulation and calculate the coefficient of performance"
   ]
  },
  {
   "cell_type": "code",
   "execution_count": 9,
   "metadata": {},
   "outputs": [
    {
     "name": "stdout",
     "output_type": "stream",
     "text": [
      "\n",
      " iter  | residual   | progress   | massflow   | pressure   | enthalpy   | fluid      | component  \n",
      "-------+------------+------------+------------+------------+------------+------------+------------\n",
      " 1     | 1.46e-11   | 100 %      | 0.00e+00   | 1.82e-10   | 3.92e-12   | 0.00e+00   | 0.00e+00   \n",
      " 2     | 1.46e-11   | 100 %      | 0.00e+00   | 1.82e-10   | 3.92e-12   | 0.00e+00   | 0.00e+00   \n",
      " 3     | 1.46e-11   | 100 %      | 0.00e+00   | 1.82e-10   | 3.92e-12   | 0.00e+00   | 0.00e+00   \n",
      " 4     | 1.17e-10   | 100 %      | 0.00e+00   | 2.54e-09   | 5.49e-11   | 0.00e+00   | 0.00e+00   \n",
      "Total iterations: 4, Calculation time: 0.02 s, Iterations per second: 248.38\n",
      "COP: 2.00292017480205\n"
     ]
    }
   ],
   "source": [
    "refrigerator.solve(mode='design')\n",
    "\n",
    "print('COP:', cooling.P.val / motor.P.val)"
   ]
  }
 ],
 "metadata": {
  "kernelspec": {
   "display_name": "ret-env",
   "language": "python",
   "name": "python3"
  },
  "language_info": {
   "codemirror_mode": {
    "name": "ipython",
    "version": 3
   },
   "file_extension": ".py",
   "mimetype": "text/x-python",
   "name": "python",
   "nbconvert_exporter": "python",
   "pygments_lexer": "ipython3",
   "version": "3.13.0"
  }
 },
 "nbformat": 4,
 "nbformat_minor": 2
}
