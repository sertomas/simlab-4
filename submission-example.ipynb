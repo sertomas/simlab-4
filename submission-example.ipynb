{
 "cells": [
  {
   "cell_type": "markdown",
   "metadata": {},
   "source": [
    "## Task 1"
   ]
  },
  {
   "cell_type": "markdown",
   "metadata": {},
   "source": [
    "### Simulation of a simple refrigerator in TESPy"
   ]
  },
  {
   "cell_type": "markdown",
   "metadata": {},
   "source": [
    "1. Import the necessary packages"
   ]
  },
  {
   "cell_type": "code",
   "execution_count": 238,
   "metadata": {},
   "outputs": [],
   "source": [
    "from tespy.networks import Network\n",
    "from tespy.components import (Sink, Source, Valve, SimpleHeatExchanger, Compressor, CycleCloser)\n",
    "from tespy.connections import Connection, Bus\n",
    "from CoolProp.CoolProp import PropsSI\n",
    "import pandas as pd"
   ]
  },
  {
   "cell_type": "markdown",
   "metadata": {},
   "source": [
    "2. Create the `Network` for the refrigerator and set the units you want to use"
   ]
  },
  {
   "cell_type": "code",
   "execution_count": 239,
   "metadata": {},
   "outputs": [],
   "source": [
    "refrigerator = Network(T_unit='C', p_unit='bar', h_unit='kJ / kg', m_unit='kg / s')"
   ]
  },
  {
   "cell_type": "markdown",
   "metadata": {},
   "source": [
    "3. Set the fluids of the system (for easier access in the functions)"
   ]
  },
  {
   "cell_type": "code",
   "execution_count": 240,
   "metadata": {},
   "outputs": [],
   "source": [
    "wf = \"R600a\"\n",
    "wf_dict = {wf: 1}"
   ]
  },
  {
   "cell_type": "markdown",
   "metadata": {},
   "source": [
    "4. Set the components of the system"
   ]
  },
  {
   "cell_type": "code",
   "execution_count": 241,
   "metadata": {},
   "outputs": [],
   "source": [
    "val = Valve('throttling-valve')\n",
    "eva = SimpleHeatExchanger('evaporator')\n",
    "cond = SimpleHeatExchanger('condenser')\n",
    "comp = Compressor('compressor')\n",
    "cc = CycleCloser('cycle-closer')\n"
   ]
  },
  {
   "cell_type": "markdown",
   "metadata": {},
   "source": [
    "5. Set the connections of the system and add them to the `Network`"
   ]
  },
  {
   "cell_type": "code",
   "execution_count": 242,
   "metadata": {},
   "outputs": [],
   "source": [
    "# cXX = Connection(src_comp, 'src_port', dst_comp, 'dst_port', label='XX')\n",
    "c01 = Connection(eva, 'out1', comp, 'in1', label='1')\n",
    "c02 = Connection(comp, 'out1', cond, 'in1', label='2')\n",
    "c02cc = Connection(cond, 'out1', cc, 'in1', label='2cc')\n",
    "c03 = Connection(cc, 'out1', val, 'in1', label='3')\n",
    "c04 = Connection(val, 'out1', eva, 'in1', label='4')\n",
    "\n",
    "refrigerator.add_conns(c01, c02, c02cc, c03, c04)"
   ]
  },
  {
   "cell_type": "markdown",
   "metadata": {},
   "source": [
    "6. Define the parameters and design variables"
   ]
  },
  {
   "cell_type": "code",
   "execution_count": 243,
   "metadata": {},
   "outputs": [],
   "source": [
    "# Components\n",
    "eva.set_attr(Q=150, pr=1)\n",
    "\n",
    "comp.set_attr(eta_s=0.75)\n",
    "\n",
    "cond.set_attr(pr=1)\n",
    "\n",
    "# Connections\n",
    "c03.set_attr(fluid=wf_dict)\n",
    "\n",
    "p4_set = PropsSI(\"P\", \"Q\", 1, \"T\", 273.15 - 20, wf) / 1e5  # saturation pressure at given temperature\n",
    "c04.set_attr(p=p4_set)\n",
    "\n",
    "h1_set = PropsSI(\"H\", \"P\", p4_set*1e5, \"T\", 273.15 - 18, wf) / 1e3  # superheated state at given temperature and pressure\n",
    "c01.set_attr(h=h1_set)\n",
    "\n",
    "c02.set_attr(T=60)\n",
    "\n",
    "h2cc_set = PropsSI(\"H\", \"Q\", 0, \"T\", 273.15 + 40, wf) / 1e3  # \n",
    "c02cc.set_attr(h=h2cc_set)"
   ]
  },
  {
   "cell_type": "markdown",
   "metadata": {},
   "source": [
    "7. Add busses for heat and power flows"
   ]
  },
  {
   "cell_type": "code",
   "execution_count": 244,
   "metadata": {},
   "outputs": [],
   "source": [
    "motor = Bus('motor')\n",
    "motor.add_comps({'comp': comp, 'char': 0.95, 'base': 'bus'})\n",
    "\n",
    "cooling = Bus('cooling heat')\n",
    "cooling.add_comps({'comp': eva, 'base': 'bus'})\n",
    "\n",
    "refrigerator.add_busses(motor, cooling)"
   ]
  },
  {
   "cell_type": "markdown",
   "metadata": {},
   "source": [
    "8. Run the simulation and calculate the coefficient of performance"
   ]
  },
  {
   "cell_type": "code",
   "execution_count": 245,
   "metadata": {},
   "outputs": [
    {
     "name": "stdout",
     "output_type": "stream",
     "text": [
      "\n",
      " iter  | residual   | progress   | massflow   | pressure   | enthalpy   | fluid      | component  \n",
      "-------+------------+------------+------------+------------+------------+------------+------------\n",
      " 1     | 5.94e+05   | 2 %        | 1.41e+00   | 3.72e+05   | 2.04e+05   | 0.00e+00   | 0.00e+00   \n",
      " 2     | 3.55e+04   | 16 %       | 2.23e-02   | 4.37e+05   | 8.20e+03   | 0.00e+00   | 0.00e+00   \n",
      " 3     | 7.34e+03   | 23 %       | 1.09e-18   | 1.30e+05   | 3.22e+03   | 0.00e+00   | 0.00e+00   \n",
      " 4     | 3.02e+02   | 39 %       | 0.00e+00   | 5.02e+03   | 1.79e+02   | 0.00e+00   | 0.00e+00   \n",
      " 5     | 3.83e-01   | 71 %       | 0.00e+00   | 5.53e+00   | 2.66e-01   | 0.00e+00   | 0.00e+00   \n",
      " 6     | 4.64e-07   | 100 %      | 0.00e+00   | 6.01e-06   | 3.52e-07   | 0.00e+00   | 0.00e+00   \n",
      " 7     | 1.17e-10   | 100 %      | 0.00e+00   | 7.99e-10   | 1.32e-10   | 0.00e+00   | 0.00e+00   \n",
      "Total iterations: 7, Calculation time: 0.03 s, Iterations per second: 262.72\n"
     ]
    }
   ],
   "source": [
    "refrigerator.solve(mode='design')"
   ]
  },
  {
   "cell_type": "markdown",
   "metadata": {},
   "source": [
    "9. Extract TESPy results"
   ]
  },
  {
   "cell_type": "code",
   "execution_count": 246,
   "metadata": {},
   "outputs": [
    {
     "data": {
      "text/html": [
       "<div>\n",
       "<style scoped>\n",
       "    .dataframe tbody tr th:only-of-type {\n",
       "        vertical-align: middle;\n",
       "    }\n",
       "\n",
       "    .dataframe tbody tr th {\n",
       "        vertical-align: top;\n",
       "    }\n",
       "\n",
       "    .dataframe thead th {\n",
       "        text-align: right;\n",
       "    }\n",
       "</style>\n",
       "<table border=\"1\" class=\"dataframe\">\n",
       "  <thead>\n",
       "    <tr style=\"text-align: right;\">\n",
       "      <th></th>\n",
       "      <th>Name</th>\n",
       "      <th>Mass Flow</th>\n",
       "      <th>Temperature</th>\n",
       "      <th>Pressure</th>\n",
       "      <th>Enthalpy</th>\n",
       "    </tr>\n",
       "  </thead>\n",
       "  <tbody>\n",
       "    <tr>\n",
       "      <th>0</th>\n",
       "      <td>1</td>\n",
       "      <td>0.00064</td>\n",
       "      <td>-18.000000</td>\n",
       "      <td>0.724773</td>\n",
       "      <td>530.612362</td>\n",
       "    </tr>\n",
       "    <tr>\n",
       "      <th>1</th>\n",
       "      <td>2</td>\n",
       "      <td>0.00064</td>\n",
       "      <td>60.000000</td>\n",
       "      <td>6.651517</td>\n",
       "      <td>641.757917</td>\n",
       "    </tr>\n",
       "    <tr>\n",
       "      <th>2</th>\n",
       "      <td>2cc</td>\n",
       "      <td>0.00064</td>\n",
       "      <td>39.981369</td>\n",
       "      <td>6.651517</td>\n",
       "      <td>296.280073</td>\n",
       "    </tr>\n",
       "    <tr>\n",
       "      <th>3</th>\n",
       "      <td>3</td>\n",
       "      <td>0.00064</td>\n",
       "      <td>39.981369</td>\n",
       "      <td>6.651517</td>\n",
       "      <td>296.280073</td>\n",
       "    </tr>\n",
       "    <tr>\n",
       "      <th>4</th>\n",
       "      <td>4</td>\n",
       "      <td>0.00064</td>\n",
       "      <td>-20.000000</td>\n",
       "      <td>0.724773</td>\n",
       "      <td>296.280073</td>\n",
       "    </tr>\n",
       "  </tbody>\n",
       "</table>\n",
       "</div>"
      ],
      "text/plain": [
       "  Name  Mass Flow  Temperature  Pressure    Enthalpy\n",
       "0    1    0.00064   -18.000000  0.724773  530.612362\n",
       "1    2    0.00064    60.000000  6.651517  641.757917\n",
       "2  2cc    0.00064    39.981369  6.651517  296.280073\n",
       "3    3    0.00064    39.981369  6.651517  296.280073\n",
       "4    4    0.00064   -20.000000  0.724773  296.280073"
      ]
     },
     "execution_count": 246,
     "metadata": {},
     "output_type": "execute_result"
    }
   ],
   "source": [
    "tespy_results = {\n",
    "    'Name': ['1', '2', '2cc', '3', '4'],\n",
    "    'Mass Flow': [c01.m.val, c02.m.val, c02cc.m.val, c03.m.val, c04.m.val],\n",
    "    'Temperature': [c01.T.val, c02.T.val, c02cc.T.val, c03.T.val, c04.T.val],\n",
    "    'Pressure': [c01.p.val, c02.p.val, c02cc.p.val, c03.p.val, c04.p.val],\n",
    "    'Enthalpy': [c01.h.val, c02.h.val, c02cc.h.val, c03.h.val, c04.h.val]\n",
    "}\n",
    "\n",
    "tespy_df = pd.DataFrame(tespy_results)\n",
    "tespy_df"
   ]
  },
  {
   "cell_type": "markdown",
   "metadata": {},
   "source": [
    "### Simulation of a simple refrigerator in Ebsilon Professional"
   ]
  },
  {
   "cell_type": "markdown",
   "metadata": {},
   "source": [
    "![Ebsilon Simulation](refrigerator.png)"
   ]
  },
  {
   "cell_type": "code",
   "execution_count": 252,
   "metadata": {},
   "outputs": [
    {
     "data": {
      "text/html": [
       "<div>\n",
       "<style scoped>\n",
       "    .dataframe tbody tr th:only-of-type {\n",
       "        vertical-align: middle;\n",
       "    }\n",
       "\n",
       "    .dataframe tbody tr th {\n",
       "        vertical-align: top;\n",
       "    }\n",
       "\n",
       "    .dataframe thead th {\n",
       "        text-align: right;\n",
       "    }\n",
       "</style>\n",
       "<table border=\"1\" class=\"dataframe\">\n",
       "  <thead>\n",
       "    <tr style=\"text-align: right;\">\n",
       "      <th></th>\n",
       "      <th>Unnamed: 0</th>\n",
       "      <th>Name</th>\n",
       "      <th>Mass Flow</th>\n",
       "      <th>Temperature</th>\n",
       "      <th>Pressure</th>\n",
       "      <th>Enthalpy</th>\n",
       "      <th>Entropy</th>\n",
       "      <th>Mass Flow Unit</th>\n",
       "      <th>Temperature Unit</th>\n",
       "      <th>Pressure Unit</th>\n",
       "      <th>Enthalpy Unit</th>\n",
       "      <th>Entropy Unit</th>\n",
       "    </tr>\n",
       "  </thead>\n",
       "  <tbody>\n",
       "    <tr>\n",
       "      <th>0</th>\n",
       "      <td>0</td>\n",
       "      <td>1</td>\n",
       "      <td>0.00064</td>\n",
       "      <td>-17.999983</td>\n",
       "      <td>0.724772</td>\n",
       "      <td>530.612015</td>\n",
       "      <td>2.313165</td>\n",
       "      <td>kg/s</td>\n",
       "      <td>°C</td>\n",
       "      <td>bar</td>\n",
       "      <td>kJ/kg</td>\n",
       "      <td>kJ/kgK</td>\n",
       "    </tr>\n",
       "    <tr>\n",
       "      <th>1</th>\n",
       "      <td>1</td>\n",
       "      <td>2</td>\n",
       "      <td>0.00064</td>\n",
       "      <td>60.000008</td>\n",
       "      <td>6.651510</td>\n",
       "      <td>641.757434</td>\n",
       "      <td>2.398282</td>\n",
       "      <td>kg/s</td>\n",
       "      <td>°C</td>\n",
       "      <td>bar</td>\n",
       "      <td>kJ/kg</td>\n",
       "      <td>kJ/kgK</td>\n",
       "    </tr>\n",
       "    <tr>\n",
       "      <th>2</th>\n",
       "      <td>2</td>\n",
       "      <td>2cc</td>\n",
       "      <td>0.00064</td>\n",
       "      <td>40.000000</td>\n",
       "      <td>6.651510</td>\n",
       "      <td>296.327148</td>\n",
       "      <td>1.325609</td>\n",
       "      <td>kg/s</td>\n",
       "      <td>°C</td>\n",
       "      <td>bar</td>\n",
       "      <td>kJ/kg</td>\n",
       "      <td>kJ/kgK</td>\n",
       "    </tr>\n",
       "    <tr>\n",
       "      <th>3</th>\n",
       "      <td>3</td>\n",
       "      <td>3</td>\n",
       "      <td>0.00064</td>\n",
       "      <td>40.000000</td>\n",
       "      <td>6.651510</td>\n",
       "      <td>296.327148</td>\n",
       "      <td>1.325609</td>\n",
       "      <td>kg/s</td>\n",
       "      <td>°C</td>\n",
       "      <td>bar</td>\n",
       "      <td>kJ/kg</td>\n",
       "      <td>kJ/kgK</td>\n",
       "    </tr>\n",
       "    <tr>\n",
       "      <th>4</th>\n",
       "      <td>4</td>\n",
       "      <td>4</td>\n",
       "      <td>0.00064</td>\n",
       "      <td>-20.000000</td>\n",
       "      <td>0.724772</td>\n",
       "      <td>296.327148</td>\n",
       "      <td>1.387733</td>\n",
       "      <td>kg/s</td>\n",
       "      <td>°C</td>\n",
       "      <td>bar</td>\n",
       "      <td>kJ/kg</td>\n",
       "      <td>kJ/kgK</td>\n",
       "    </tr>\n",
       "  </tbody>\n",
       "</table>\n",
       "</div>"
      ],
      "text/plain": [
       "   Unnamed: 0 Name  Mass Flow  Temperature  Pressure    Enthalpy   Entropy  \\\n",
       "0           0    1    0.00064   -17.999983  0.724772  530.612015  2.313165   \n",
       "1           1    2    0.00064    60.000008  6.651510  641.757434  2.398282   \n",
       "2           2  2cc    0.00064    40.000000  6.651510  296.327148  1.325609   \n",
       "3           3    3    0.00064    40.000000  6.651510  296.327148  1.325609   \n",
       "4           4    4    0.00064   -20.000000  0.724772  296.327148  1.387733   \n",
       "\n",
       "  Mass Flow Unit Temperature Unit Pressure Unit Enthalpy Unit Entropy Unit  \n",
       "0           kg/s               °C           bar         kJ/kg       kJ/kgK  \n",
       "1           kg/s               °C           bar         kJ/kg       kJ/kgK  \n",
       "2           kg/s               °C           bar         kJ/kg       kJ/kgK  \n",
       "3           kg/s               °C           bar         kJ/kg       kJ/kgK  \n",
       "4           kg/s               °C           bar         kJ/kg       kJ/kgK  "
      ]
     },
     "execution_count": 252,
     "metadata": {},
     "output_type": "execute_result"
    }
   ],
   "source": [
    "import pandas as pd\n",
    "\n",
    "# Load the CSV file into a DataFrame\n",
    "df_material_streams_ebs = pd.read_csv('ebsilon/ebs_material_streams_results.csv')\n",
    "df_material_streams_ebs"
   ]
  },
  {
   "cell_type": "code",
   "execution_count": 248,
   "metadata": {},
   "outputs": [
    {
     "data": {
      "text/html": [
       "<div>\n",
       "<style scoped>\n",
       "    .dataframe tbody tr th:only-of-type {\n",
       "        vertical-align: middle;\n",
       "    }\n",
       "\n",
       "    .dataframe tbody tr th {\n",
       "        vertical-align: top;\n",
       "    }\n",
       "\n",
       "    .dataframe thead th {\n",
       "        text-align: right;\n",
       "    }\n",
       "</style>\n",
       "<table border=\"1\" class=\"dataframe\">\n",
       "  <thead>\n",
       "    <tr style=\"text-align: right;\">\n",
       "      <th></th>\n",
       "      <th>Name</th>\n",
       "      <th>Mass Flow</th>\n",
       "      <th>Temperature</th>\n",
       "      <th>Pressure</th>\n",
       "      <th>Enthalpy</th>\n",
       "    </tr>\n",
       "  </thead>\n",
       "  <tbody>\n",
       "    <tr>\n",
       "      <th>0</th>\n",
       "      <td>1</td>\n",
       "      <td>0.00064</td>\n",
       "      <td>-17.999983</td>\n",
       "      <td>0.724772</td>\n",
       "      <td>530.612015</td>\n",
       "    </tr>\n",
       "    <tr>\n",
       "      <th>1</th>\n",
       "      <td>2</td>\n",
       "      <td>0.00064</td>\n",
       "      <td>60.000008</td>\n",
       "      <td>6.651510</td>\n",
       "      <td>641.757434</td>\n",
       "    </tr>\n",
       "    <tr>\n",
       "      <th>2</th>\n",
       "      <td>2cc</td>\n",
       "      <td>0.00064</td>\n",
       "      <td>40.000000</td>\n",
       "      <td>6.651510</td>\n",
       "      <td>296.327148</td>\n",
       "    </tr>\n",
       "    <tr>\n",
       "      <th>3</th>\n",
       "      <td>3</td>\n",
       "      <td>0.00064</td>\n",
       "      <td>40.000000</td>\n",
       "      <td>6.651510</td>\n",
       "      <td>296.327148</td>\n",
       "    </tr>\n",
       "    <tr>\n",
       "      <th>4</th>\n",
       "      <td>4</td>\n",
       "      <td>0.00064</td>\n",
       "      <td>-20.000000</td>\n",
       "      <td>0.724772</td>\n",
       "      <td>296.327148</td>\n",
       "    </tr>\n",
       "  </tbody>\n",
       "</table>\n",
       "</div>"
      ],
      "text/plain": [
       "  Name  Mass Flow  Temperature  Pressure    Enthalpy\n",
       "0    1    0.00064   -17.999983  0.724772  530.612015\n",
       "1    2    0.00064    60.000008  6.651510  641.757434\n",
       "2  2cc    0.00064    40.000000  6.651510  296.327148\n",
       "3    3    0.00064    40.000000  6.651510  296.327148\n",
       "4    4    0.00064   -20.000000  0.724772  296.327148"
      ]
     },
     "execution_count": 248,
     "metadata": {},
     "output_type": "execute_result"
    }
   ],
   "source": [
    "# Select only the relevant columns and rename them\n",
    "columns_to_select = ['Name', 'Mass Flow', 'Temperature', 'Pressure', 'Enthalpy']\n",
    "filtered_df_ebs = df_material_streams_ebs[columns_to_select]\n",
    "\n",
    "filtered_df_ebs"
   ]
  },
  {
   "cell_type": "code",
   "execution_count": 249,
   "metadata": {},
   "outputs": [
    {
     "data": {
      "text/html": [
       "<div>\n",
       "<style scoped>\n",
       "    .dataframe tbody tr th:only-of-type {\n",
       "        vertical-align: middle;\n",
       "    }\n",
       "\n",
       "    .dataframe tbody tr th {\n",
       "        vertical-align: top;\n",
       "    }\n",
       "\n",
       "    .dataframe thead th {\n",
       "        text-align: right;\n",
       "    }\n",
       "</style>\n",
       "<table border=\"1\" class=\"dataframe\">\n",
       "  <thead>\n",
       "    <tr style=\"text-align: right;\">\n",
       "      <th></th>\n",
       "      <th>Name</th>\n",
       "      <th>Mass Flow_Ebsilon</th>\n",
       "      <th>Temperature_Ebsilon</th>\n",
       "      <th>Pressure_Ebsilon</th>\n",
       "      <th>Enthalpy_Ebsilon</th>\n",
       "      <th>Mass Flow_TESPy</th>\n",
       "      <th>Temperature_TESPy</th>\n",
       "      <th>Pressure_TESPy</th>\n",
       "      <th>Enthalpy_TESPy</th>\n",
       "    </tr>\n",
       "  </thead>\n",
       "  <tbody>\n",
       "    <tr>\n",
       "      <th>0</th>\n",
       "      <td>1</td>\n",
       "      <td>0.00064</td>\n",
       "      <td>-17.999983</td>\n",
       "      <td>0.724772</td>\n",
       "      <td>530.612015</td>\n",
       "      <td>0.00064</td>\n",
       "      <td>-18.000000</td>\n",
       "      <td>0.724773</td>\n",
       "      <td>530.612362</td>\n",
       "    </tr>\n",
       "    <tr>\n",
       "      <th>1</th>\n",
       "      <td>2</td>\n",
       "      <td>0.00064</td>\n",
       "      <td>60.000008</td>\n",
       "      <td>6.651510</td>\n",
       "      <td>641.757434</td>\n",
       "      <td>0.00064</td>\n",
       "      <td>60.000000</td>\n",
       "      <td>6.651517</td>\n",
       "      <td>641.757917</td>\n",
       "    </tr>\n",
       "    <tr>\n",
       "      <th>2</th>\n",
       "      <td>2cc</td>\n",
       "      <td>0.00064</td>\n",
       "      <td>40.000000</td>\n",
       "      <td>6.651510</td>\n",
       "      <td>296.327148</td>\n",
       "      <td>0.00064</td>\n",
       "      <td>39.981369</td>\n",
       "      <td>6.651517</td>\n",
       "      <td>296.280073</td>\n",
       "    </tr>\n",
       "    <tr>\n",
       "      <th>3</th>\n",
       "      <td>3</td>\n",
       "      <td>0.00064</td>\n",
       "      <td>40.000000</td>\n",
       "      <td>6.651510</td>\n",
       "      <td>296.327148</td>\n",
       "      <td>0.00064</td>\n",
       "      <td>39.981369</td>\n",
       "      <td>6.651517</td>\n",
       "      <td>296.280073</td>\n",
       "    </tr>\n",
       "    <tr>\n",
       "      <th>4</th>\n",
       "      <td>4</td>\n",
       "      <td>0.00064</td>\n",
       "      <td>-20.000000</td>\n",
       "      <td>0.724772</td>\n",
       "      <td>296.327148</td>\n",
       "      <td>0.00064</td>\n",
       "      <td>-20.000000</td>\n",
       "      <td>0.724773</td>\n",
       "      <td>296.280073</td>\n",
       "    </tr>\n",
       "  </tbody>\n",
       "</table>\n",
       "</div>"
      ],
      "text/plain": [
       "  Name  Mass Flow_Ebsilon  Temperature_Ebsilon  Pressure_Ebsilon  \\\n",
       "0    1            0.00064           -17.999983          0.724772   \n",
       "1    2            0.00064            60.000008          6.651510   \n",
       "2  2cc            0.00064            40.000000          6.651510   \n",
       "3    3            0.00064            40.000000          6.651510   \n",
       "4    4            0.00064           -20.000000          0.724772   \n",
       "\n",
       "   Enthalpy_Ebsilon  Mass Flow_TESPy  Temperature_TESPy  Pressure_TESPy  \\\n",
       "0        530.612015          0.00064         -18.000000        0.724773   \n",
       "1        641.757434          0.00064          60.000000        6.651517   \n",
       "2        296.327148          0.00064          39.981369        6.651517   \n",
       "3        296.327148          0.00064          39.981369        6.651517   \n",
       "4        296.327148          0.00064         -20.000000        0.724773   \n",
       "\n",
       "   Enthalpy_TESPy  \n",
       "0      530.612362  \n",
       "1      641.757917  \n",
       "2      296.280073  \n",
       "3      296.280073  \n",
       "4      296.280073  "
      ]
     },
     "execution_count": 249,
     "metadata": {},
     "output_type": "execute_result"
    }
   ],
   "source": [
    "# Merge the dataframes on the 'Name' column to compare\n",
    "comparison_df = pd.merge(filtered_df_ebs, tespy_df, on='Name', suffixes=('_Ebsilon', '_TESPy'))\n",
    "comparison_df"
   ]
  },
  {
   "cell_type": "code",
   "execution_count": 250,
   "metadata": {},
   "outputs": [
    {
     "data": {
      "text/html": [
       "<div>\n",
       "<style scoped>\n",
       "    .dataframe tbody tr th:only-of-type {\n",
       "        vertical-align: middle;\n",
       "    }\n",
       "\n",
       "    .dataframe tbody tr th {\n",
       "        vertical-align: top;\n",
       "    }\n",
       "\n",
       "    .dataframe thead th {\n",
       "        text-align: right;\n",
       "    }\n",
       "</style>\n",
       "<table border=\"1\" class=\"dataframe\">\n",
       "  <thead>\n",
       "    <tr style=\"text-align: right;\">\n",
       "      <th></th>\n",
       "      <th>Name</th>\n",
       "      <th>Mass Flow Rel Diff (%)</th>\n",
       "      <th>Temperature Rel Diff (%)</th>\n",
       "      <th>Pressure Rel Diff (%)</th>\n",
       "      <th>Enthalpy Rel Diff (%)</th>\n",
       "    </tr>\n",
       "  </thead>\n",
       "  <tbody>\n",
       "    <tr>\n",
       "      <th>0</th>\n",
       "      <td>1</td>\n",
       "      <td>-0.018</td>\n",
       "      <td>-0.000</td>\n",
       "      <td>-0.0</td>\n",
       "      <td>-0.000</td>\n",
       "    </tr>\n",
       "    <tr>\n",
       "      <th>1</th>\n",
       "      <td>2</td>\n",
       "      <td>-0.018</td>\n",
       "      <td>0.000</td>\n",
       "      <td>-0.0</td>\n",
       "      <td>-0.000</td>\n",
       "    </tr>\n",
       "    <tr>\n",
       "      <th>2</th>\n",
       "      <td>2cc</td>\n",
       "      <td>-0.018</td>\n",
       "      <td>0.047</td>\n",
       "      <td>-0.0</td>\n",
       "      <td>0.016</td>\n",
       "    </tr>\n",
       "    <tr>\n",
       "      <th>3</th>\n",
       "      <td>3</td>\n",
       "      <td>-0.018</td>\n",
       "      <td>0.047</td>\n",
       "      <td>-0.0</td>\n",
       "      <td>0.016</td>\n",
       "    </tr>\n",
       "    <tr>\n",
       "      <th>4</th>\n",
       "      <td>4</td>\n",
       "      <td>-0.018</td>\n",
       "      <td>0.000</td>\n",
       "      <td>-0.0</td>\n",
       "      <td>0.016</td>\n",
       "    </tr>\n",
       "  </tbody>\n",
       "</table>\n",
       "</div>"
      ],
      "text/plain": [
       "  Name  Mass Flow Rel Diff (%)  Temperature Rel Diff (%)  \\\n",
       "0    1                  -0.018                    -0.000   \n",
       "1    2                  -0.018                     0.000   \n",
       "2  2cc                  -0.018                     0.047   \n",
       "3    3                  -0.018                     0.047   \n",
       "4    4                  -0.018                     0.000   \n",
       "\n",
       "   Pressure Rel Diff (%)  Enthalpy Rel Diff (%)  \n",
       "0                   -0.0                 -0.000  \n",
       "1                   -0.0                 -0.000  \n",
       "2                   -0.0                  0.016  \n",
       "3                   -0.0                  0.016  \n",
       "4                   -0.0                  0.016  "
      ]
     },
     "execution_count": 250,
     "metadata": {},
     "output_type": "execute_result"
    }
   ],
   "source": [
    "# Calculate relative differences in percentages\n",
    "comparison_df['Mass Flow Rel Diff (%)'] = (comparison_df['Mass Flow_Ebsilon'] - comparison_df['Mass Flow_TESPy']) / comparison_df['Mass Flow_TESPy'] * 100\n",
    "comparison_df['Temperature Rel Diff (%)'] = (comparison_df['Temperature_Ebsilon'] - comparison_df['Temperature_TESPy']) / comparison_df['Temperature_TESPy'] * 100\n",
    "comparison_df['Pressure Rel Diff (%)'] = (comparison_df['Pressure_Ebsilon'] - comparison_df['Pressure_TESPy']) / comparison_df['Pressure_TESPy'] * 100\n",
    "comparison_df['Enthalpy Rel Diff (%)'] = (comparison_df['Enthalpy_Ebsilon'] - comparison_df['Enthalpy_TESPy']) / comparison_df['Enthalpy_TESPy'] * 100\n",
    "\n",
    "# Keep only the relative difference columns\n",
    "rel_diff_columns = ['Name', 'Mass Flow Rel Diff (%)', 'Temperature Rel Diff (%)', 'Pressure Rel Diff (%)', 'Enthalpy Rel Diff (%)']\n",
    "comparison_df = comparison_df[rel_diff_columns]\n",
    "\n",
    "# Display the resulting DataFrame\n",
    "comparison_df.round(3)"
   ]
  },
  {
   "cell_type": "markdown",
   "metadata": {},
   "source": [
    "### Differences between the simulation in TESPy and Ebsilon"
   ]
  },
  {
   "cell_type": "markdown",
   "metadata": {},
   "source": [
    "- results\n",
    "- model used\n",
    "- components\n",
    "- parameter settings\n",
    "- ..."
   ]
  },
  {
   "cell_type": "markdown",
   "metadata": {},
   "source": [
    "#### Positive aspects of TESPy"
   ]
  },
  {
   "cell_type": "markdown",
   "metadata": {},
   "source": [
    "- easy to use\n",
    "- "
   ]
  },
  {
   "cell_type": "markdown",
   "metadata": {},
   "source": [
    "#### Negative aspects of TESPy"
   ]
  },
  {
   "cell_type": "markdown",
   "metadata": {},
   "source": [
    "#### Positive aspects of Ebsilon"
   ]
  },
  {
   "cell_type": "markdown",
   "metadata": {},
   "source": [
    "#### Negative aspects of Ebsilon"
   ]
  }
 ],
 "metadata": {
  "kernelspec": {
   "display_name": "ret-env",
   "language": "python",
   "name": "python3"
  },
  "language_info": {
   "codemirror_mode": {
    "name": "ipython",
    "version": 3
   },
   "file_extension": ".py",
   "mimetype": "text/x-python",
   "name": "python",
   "nbconvert_exporter": "python",
   "pygments_lexer": "ipython3",
   "version": "3.13.0"
  }
 },
 "nbformat": 4,
 "nbformat_minor": 2
}
